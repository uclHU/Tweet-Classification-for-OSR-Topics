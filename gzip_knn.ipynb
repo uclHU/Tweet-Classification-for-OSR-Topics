{
 "cells": [
  {
   "cell_type": "code",
   "execution_count": 2,
   "id": "422443a5",
   "metadata": {},
   "outputs": [
    {
     "name": "stderr",
     "output_type": "stream",
     "text": [
      "/var/folders/zr/c2qvpcbd0gd8_v20qfl318fh0000gn/T/ipykernel_2958/222329553.py:31: SettingWithCopyWarning: \n",
      "A value is trying to be set on a copy of a slice from a DataFrame\n",
      "\n",
      "See the caveats in the documentation: https://pandas.pydata.org/pandas-docs/stable/user_guide/indexing.html#returning-a-view-versus-a-copy\n",
      "  labels[i] = id\n"
     ]
    }
   ],
   "source": [
    "import gzip\n",
    "import os.path as op\n",
    "import pandas as pd\n",
    "import numpy as np\n",
    "from transformers import AutoTokenizer\n",
    "from sklearn.model_selection import train_test_split\n",
    "\n",
    "df = pd.read_csv(\"./osr_tweets_without_S_T_U_U.csv\", engine='python')\n",
    "\n",
    "#convert to list\n",
    "docs = df.text\n",
    "\n",
    "labels = df.topic\n",
    "\n",
    "id2label = {}\n",
    "label2id = {}\n",
    "id_counter = 0\n",
    "for i in range(len(labels)):\n",
    "    label = labels[i]\n",
    "    if label not in label2id:\n",
    "        label2id[label] = id_counter\n",
    "        id_counter += 1\n",
    "\n",
    "for label, id in label2id.items():\n",
    "    id2label[id] = label\n",
    "\n",
    "\n",
    "for i in range(len(labels)):\n",
    "    topic = labels[i]\n",
    "    id = label2id[topic]\n",
    "    labels[i] = id\n",
    "\n",
    "df.text = df.text.astype(str)\n",
    "df = df[df['text'].map(len) >= 10]\n",
    "df.rename(columns={'topic':'label'}, inplace = True)\n",
    "df_train, df_test = train_test_split(df, test_size=0.2)"
   ]
  },
  {
   "cell_type": "code",
   "execution_count": 3,
   "id": "cdd2a50d",
   "metadata": {},
   "outputs": [
    {
     "name": "stderr",
     "output_type": "stream",
     "text": [
      "100%|███████████████████████████████████████| 2035/2035 [10:37<00:00,  3.19it/s]"
     ]
    },
    {
     "name": "stdout",
     "output_type": "stream",
     "text": [
      "Accuracy: 0.596068796068796\n"
     ]
    },
    {
     "name": "stderr",
     "output_type": "stream",
     "text": [
      "\n"
     ]
    }
   ],
   "source": [
    "from tqdm import tqdm\n",
    "from collections import Counter\n",
    "\n",
    "k = 2\n",
    "\n",
    "predicted_classes = []\n",
    "\n",
    "for row_test in tqdm(df_test.iterrows(), total=df_test.shape[0]):\n",
    "    test_text = row_test[1][\"text\"]\n",
    "    test_label = row_test[1][\"label\"]\n",
    "    c_test_text = len(gzip.compress(test_text.encode()))\n",
    "    distance_from_test_instance = []\n",
    "    \n",
    "    for row_train in df_train.iterrows():\n",
    "        train_text = row_train[1][\"text\"]\n",
    "        train_label = row_train[1][\"label\"]\n",
    "        c_train_text = len(gzip.compress(train_text.encode()))\n",
    "        \n",
    "        train_plus_test = \" \".join([test_text, train_text])\n",
    "        c_train_plus_test = len(gzip.compress(train_plus_test.encode()))\n",
    "        \n",
    "        ncd = ( (c_train_plus_test - min(c_train_text, c_test_text))\n",
    "                / max(c_test_text, c_train_text) )\n",
    "        distance_from_test_instance.append(ncd)\n",
    "        \n",
    "    sorted_idx = np.argsort(np.array(distance_from_test_instance))\n",
    "    top_k_class = np.array(df_train[\"label\"])[sorted_idx[:k]]\n",
    "    predicted_class = Counter(top_k_class).most_common()[0][0]\n",
    "    \n",
    "    predicted_classes.append(predicted_class)\n",
    "        \n",
    "print(\"Accuracy:\", np.mean(np.array(predicted_classes) == df_test[\"label\"].values))"
   ]
  },
  {
   "cell_type": "code",
   "execution_count": 4,
   "id": "cedb2fd1",
   "metadata": {},
   "outputs": [
    {
     "name": "stderr",
     "output_type": "stream",
     "text": [
      "100%|███████████████████████████████████████| 2035/2035 [10:33<00:00,  3.21it/s]"
     ]
    },
    {
     "name": "stdout",
     "output_type": "stream",
     "text": [
      "Accuracy: 0.596068796068796\n"
     ]
    },
    {
     "name": "stderr",
     "output_type": "stream",
     "text": [
      "\n"
     ]
    }
   ],
   "source": [
    "from tqdm import tqdm\n",
    "from collections import Counter\n",
    "\n",
    "k = 1\n",
    "\n",
    "predicted_classes = []\n",
    "\n",
    "for row_test in tqdm(df_test.iterrows(), total=df_test.shape[0]):\n",
    "    test_text = row_test[1][\"text\"]\n",
    "    test_label = row_test[1][\"label\"]\n",
    "    c_test_text = len(gzip.compress(test_text.encode()))\n",
    "    distance_from_test_instance = []\n",
    "    \n",
    "    for row_train in df_train.iterrows():\n",
    "        train_text = row_train[1][\"text\"]\n",
    "        train_label = row_train[1][\"label\"]\n",
    "        c_train_text = len(gzip.compress(train_text.encode()))\n",
    "        \n",
    "        train_plus_test = \" \".join([test_text, train_text])\n",
    "        c_train_plus_test = len(gzip.compress(train_plus_test.encode()))\n",
    "        \n",
    "        ncd = ( (c_train_plus_test - min(c_train_text, c_test_text))\n",
    "                / max(c_test_text, c_train_text) ) \n",
    "        \n",
    "        distance_from_test_instance.append(ncd)\n",
    "    \n",
    "    #distance_from_test_instance = [1/dis for dis in distance_from_test_instance]\n",
    "    sorted_idx = np.argsort(np.array(distance_from_test_instance))\n",
    "    top_k_class = np.array(df_train[\"label\"])[sorted_idx[:k]]\n",
    "    predicted_class = Counter(top_k_class).most_common()[0][0]\n",
    "    \n",
    "    predicted_classes.append(predicted_class)\n",
    "        \n",
    "print(\"Accuracy:\", np.mean(np.array(predicted_classes) == df_test[\"label\"].values))"
   ]
  },
  {
   "cell_type": "code",
   "execution_count": 11,
   "id": "344bc77f",
   "metadata": {},
   "outputs": [
    {
     "name": "stderr",
     "output_type": "stream",
     "text": [
      "100%|███████████████████████████████████████| 2037/2037 [12:26<00:00,  2.73it/s]\n"
     ]
    },
    {
     "name": "stdout",
     "output_type": "stream",
     "text": [
      "k: 2  Accuracy: 0.24104074619538537\n"
     ]
    },
    {
     "name": "stderr",
     "output_type": "stream",
     "text": [
      "100%|███████████████████████████████████████| 2037/2037 [11:39<00:00,  2.91it/s]\n"
     ]
    },
    {
     "name": "stdout",
     "output_type": "stream",
     "text": [
      "k: 3  Accuracy: 0.1134020618556701\n"
     ]
    },
    {
     "name": "stderr",
     "output_type": "stream",
     "text": [
      "100%|███████████████████████████████████████| 2037/2037 [12:04<00:00,  2.81it/s]\n"
     ]
    },
    {
     "name": "stdout",
     "output_type": "stream",
     "text": [
      "k: 4  Accuracy: 0.10652920962199312\n"
     ]
    },
    {
     "name": "stderr",
     "output_type": "stream",
     "text": [
      "100%|███████████████████████████████████████| 2037/2037 [11:36<00:00,  2.92it/s]\n"
     ]
    },
    {
     "name": "stdout",
     "output_type": "stream",
     "text": [
      "k: 5  Accuracy: 0.06823760432007854\n"
     ]
    },
    {
     "name": "stderr",
     "output_type": "stream",
     "text": [
      "100%|███████████████████████████████████████| 2037/2037 [11:09<00:00,  3.04it/s]\n"
     ]
    },
    {
     "name": "stdout",
     "output_type": "stream",
     "text": [
      "k: 6  Accuracy: 0.06578301423662249\n"
     ]
    },
    {
     "name": "stderr",
     "output_type": "stream",
     "text": [
      "100%|███████████████████████████████████████| 2037/2037 [11:36<00:00,  2.93it/s]\n"
     ]
    },
    {
     "name": "stdout",
     "output_type": "stream",
     "text": [
      "k: 7  Accuracy: 0.054000981836033385\n"
     ]
    },
    {
     "name": "stderr",
     "output_type": "stream",
     "text": [
      "100%|███████████████████████████████████████| 2037/2037 [11:37<00:00,  2.92it/s]"
     ]
    },
    {
     "name": "stdout",
     "output_type": "stream",
     "text": [
      "k: 8  Accuracy: 0.05351006381934217\n"
     ]
    },
    {
     "name": "stderr",
     "output_type": "stream",
     "text": [
      "\n"
     ]
    }
   ],
   "source": [
    "# set k from [2,8], with weighted distance\n",
    "import math\n",
    "for k in range(2,9):\n",
    "    predicted_classes = []\n",
    "\n",
    "    for row_test in tqdm(df_test.iterrows(), total=df_test.shape[0]):\n",
    "        test_text = row_test[1][\"text\"]\n",
    "        test_label = row_test[1][\"label\"]\n",
    "        c_test_text = len(gzip.compress(test_text.encode()))\n",
    "        distance_from_test_instance = []\n",
    "\n",
    "        for row_train in df_train.iterrows():\n",
    "            train_text = row_train[1][\"text\"]\n",
    "            train_label = row_train[1][\"label\"]\n",
    "            c_train_text = len(gzip.compress(train_text.encode()))\n",
    "\n",
    "            train_plus_test = \" \".join([test_text, train_text])\n",
    "            c_train_plus_test = len(gzip.compress(train_plus_test.encode()))\n",
    "\n",
    "            ncd = ( (c_train_plus_test - min(c_train_text, c_test_text))\n",
    "                    / max(c_test_text, c_train_text) ) \n",
    "\n",
    "            # weighted distance\n",
    "            weight = class_weight[train_label]\n",
    "            ncd = ncd * math.log(1+weight)\n",
    "            distance_from_test_instance.append(ncd)\n",
    "\n",
    "        sorted_idx = np.argsort(np.array(distance_from_test_instance))\n",
    "        top_k_class = np.array(df_train[\"label\"])[sorted_idx[:k]]\n",
    "        predicted_class = Counter(top_k_class).most_common()[0][0]\n",
    "\n",
    "        predicted_classes.append(predicted_class)\n",
    "\n",
    "    print(\"k:\",k,\" Accuracy:\", np.mean(np.array(predicted_classes) == df_test[\"label\"].values))"
   ]
  }
 ],
 "metadata": {
  "kernelspec": {
   "display_name": "Python 3 (ipykernel)",
   "language": "python",
   "name": "python3"
  },
  "language_info": {
   "codemirror_mode": {
    "name": "ipython",
    "version": 3
   },
   "file_extension": ".py",
   "mimetype": "text/x-python",
   "name": "python",
   "nbconvert_exporter": "python",
   "pygments_lexer": "ipython3",
   "version": "3.10.9"
  }
 },
 "nbformat": 4,
 "nbformat_minor": 5
}
