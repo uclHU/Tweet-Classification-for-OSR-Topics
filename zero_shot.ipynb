{
 "cells": [
  {
   "cell_type": "code",
   "execution_count": 4,
   "id": "6fde6191",
   "metadata": {},
   "outputs": [
    {
     "data": {
      "application/vnd.jupyter.widget-view+json": {
       "model_id": "2738da8774cd403a88008522fcb5e304",
       "version_major": 2,
       "version_minor": 0
      },
      "text/plain": [
       "Downloading model.safetensors:   0%|          | 0.00/738M [00:00<?, ?B/s]"
      ]
     },
     "metadata": {},
     "output_type": "display_data"
    }
   ],
   "source": [
    "from transformers import pipeline\n",
    "\n",
    "# load zero-shot classifier\n",
    "classifier = pipeline(\"zero-shot-classification\",model=\"sileod/deberta-v3-base-tasksource-nli\")"
   ]
  },
  {
   "cell_type": "code",
   "execution_count": 1,
   "id": "845aef29",
   "metadata": {},
   "outputs": [],
   "source": [
    "import pandas as pd\n",
    "import numpy as np\n",
    "\n",
    "# load two datasets\n",
    "df_preprocessed = pd.read_csv(\"./osr_tweets_without_T_U_U_v2.csv\", engine='python')\n",
    "df_without_preprocessed = pd.read_csv(\"./osr_tweets_origin_v2.csv\", engine='python')\n",
    "\n",
    "df_preprocessed.text = df_preprocessed.text.astype(str)\n",
    "df_preprocessed = df_preprocessed[df_preprocessed['text'].map(len) >= 10]"
   ]
  },
  {
   "cell_type": "code",
   "execution_count": 2,
   "id": "e21928c3",
   "metadata": {},
   "outputs": [],
   "source": [
    "# collect target topics\n",
    "candidate_labels = []\n",
    "for label in df_without_preprocessed.topic:\n",
    "    if label not in candidate_labels:\n",
    "        candidate_labels.append(label)"
   ]
  },
  {
   "cell_type": "code",
   "execution_count": 8,
   "id": "a947b4b7",
   "metadata": {},
   "outputs": [
    {
     "name": "stderr",
     "output_type": "stream",
     "text": [
      "2037it [53:41,  1.58s/it]                                                       \n",
      "2058it [1:05:42,  1.92s/it]                                                     "
     ]
    },
    {
     "name": "stdout",
     "output_type": "stream",
     "text": [
      "Accuracy of Zero-shot without preprocessing: 0.293488824101069\n",
      "Accuracy of Zero-shot with preprocessing: 0.18311242022582228\n"
     ]
    },
    {
     "name": "stderr",
     "output_type": "stream",
     "text": [
      "\n"
     ]
    }
   ],
   "source": [
    "from tqdm import tqdm\n",
    "pre_output_list = []\n",
    "pre_groundtruth_list = []\n",
    "output_list = []\n",
    "groundtruth_list = []\n",
    "for i in tqdm(range(1, len(df_preprocessed), 5), total=len(df_preprocessed)//5):\n",
    "    text = df_preprocessed.text.iloc[i]\n",
    "    predict_label = classifier(text, candidate_labels)\n",
    "    pre_output_list.append(predict_label['labels'][0])\n",
    "    pre_groundtruth_list.append(df_preprocessed.topic.iloc[i])\n",
    "    \n",
    "for i in tqdm(range(1, len(df_without_preprocessed), 5), total=len(df_without_preprocessed)//5):\n",
    "    text = df_without_preprocessed.text.iloc[i]\n",
    "    predict_label = classifier(text, candidate_labels)\n",
    "    output_list.append(predict_label['labels'][0])\n",
    "    groundtruth_list.append(df_without_preprocessed.topic.iloc[i])\n",
    "\n",
    "print(\"Accuracy of Zero-shot without preprocessing:\", np.mean(np.array(output_list) == groundtruth_list))\n",
    "print(\"Accuracy of Zero-shot with preprocessing:\", np.mean(np.array(pre_output_list) == pre_groundtruth_list))"
   ]
  }
 ],
 "metadata": {
  "kernelspec": {
   "display_name": "Python 3 (ipykernel)",
   "language": "python",
   "name": "python3"
  },
  "language_info": {
   "codemirror_mode": {
    "name": "ipython",
    "version": 3
   },
   "file_extension": ".py",
   "mimetype": "text/x-python",
   "name": "python",
   "nbconvert_exporter": "python",
   "pygments_lexer": "ipython3",
   "version": "3.10.9"
  }
 },
 "nbformat": 4,
 "nbformat_minor": 5
}
