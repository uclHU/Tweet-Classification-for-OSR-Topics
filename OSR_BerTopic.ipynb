{
  "cells": [
    {
      "cell_type": "code",
      "execution_count": null,
      "metadata": {
        "id": "4Cu2Zf-Deqij"
      },
      "outputs": [],
      "source": [
        "!pip install bertopic"
      ]
    },
    {
      "cell_type": "code",
      "execution_count": null,
      "metadata": {
        "id": "u2bIa-j6xWEJ"
      },
      "outputs": [],
      "source": [
        "# training 19 BERTopic models\n",
        "import pandas as pd\n",
        "import numpy as np\n",
        "from bertopic import BERTopic\n",
        "\n",
        "df = pd.read_csv(\"./osr_tweets_without_S_T_U_U_v2.csv\", engine='python')\n",
        "# df = pd.read_csv(\"/content/drive/MyDrive/Colab Notebooks/data/osr_tweets_without_T_U_U_v2.csv\", engine='python')\n",
        "\n",
        "\n",
        "def get_num_unique_topics(merged_topic):\n",
        "    exist_topic = []\n",
        "    for topic in merged_topic:\n",
        "        if not topic in exist_topic:\n",
        "            exist_topic.append(topic)\n",
        "    print(len(exist_topic))\n",
        "\n",
        "df.text.astype(str)\n",
        "df.dropna()\n",
        "df = df[df['text'].apply(lambda x:not isinstance(x, float)  and len(x)>=10)]\n",
        "df = df.reset_index(drop=True)\n",
        "\n",
        "num_topics_list = range(10,101,5)\n",
        "\n",
        "topic_cluster_list = []\n",
        "for num_topics in num_topics_list:\n",
        "\n",
        "    # create model\n",
        "    model = BERTopic(verbose=True, nr_topics=num_topics)\n",
        "\n",
        "    #convert to list\n",
        "    docs = df.text.to_list()\n",
        "    topics, probabilities = model.fit_transform(docs)\n",
        "\n",
        "    from sklearn.feature_extraction.text import CountVectorizer\n",
        "    vectorizer_model = CountVectorizer(stop_words=\"english\")\n",
        "    model.update_topics(docs, vectorizer_model=vectorizer_model)\n",
        "\n",
        "    # make predicts for all the tweets in the docs\n",
        "    predicted, probs = model.transform(docs)\n",
        "    pred_list = predicted\n",
        "\n",
        "    # exclude the topic for clustet -1, as it is the cluster for outlier tweets\n",
        "    topic_for_each_cluster = []\n",
        "    for i in range(0,num_topics-1):\n",
        "        cur_index_list = []\n",
        "        topic2counter = {}\n",
        "        # reserve all the index predicted as ith cluster\n",
        "        for j in range(len(pred_list)):\n",
        "            if pred_list[j] == i:\n",
        "                cur_index_list.append(j)\n",
        "        # from all the tweet in ith cluster, count their appearance time\n",
        "        for idx in cur_index_list:\n",
        "            topic = df.topic[idx]\n",
        "            if topic in topic2counter:\n",
        "                topic2counter[topic] += 1\n",
        "            else:\n",
        "                topic2counter[topic] = 1\n",
        "\n",
        "        topic4i = \"\"\n",
        "        num4i = 0\n",
        "        # assign topic for current cluster to be the most appeared topic\n",
        "        for topic, counter in topic2counter.items():\n",
        "            if counter > num4i:\n",
        "                topic4i = topic\n",
        "\n",
        "        topic_for_each_cluster.append(topic4i)\n",
        "\n",
        "    print(topic_for_each_cluster)\n",
        "    get_num_unique_topics(topic_for_each_cluster)\n",
        "    topic_cluster_list.append(topic_for_each_cluster)\n",
        "    filename = '{num_topics}_bertopic_model'.format(num_topics = num_topics)\n",
        "    model.save(filename)"
      ]
    },
    {
      "cell_type": "code",
      "execution_count": 7,
      "metadata": {
        "id": "YdWAkMC0hOe3"
      },
      "outputs": [],
      "source": [
        "# generate label2id map\n",
        "\n",
        "id2label = {\n",
        "0 : 'Children Education and Skills',\n",
        "1 : 'Health and Social Care',\n",
        "2 : 'Crime and Security',\n",
        "3 : 'Economy',\n",
        "4 : 'Housing Planning and Local Services',\n",
        "5 : 'Labour Market and Welfare',\n",
        "6 : 'Population and Society',\n",
        "7 : 'Transport Environment and Climate Change'\n",
        "}\n",
        "map = {}\n",
        "for id, label in id2label.items():\n",
        "    map[label] = id"
      ]
    },
    {
      "cell_type": "code",
      "execution_count": null,
      "metadata": {
        "id": "R74c5C40YW3H"
      },
      "outputs": [],
      "source": [
        "# evaluate 19 topic modeling models on test set\n",
        "\n",
        "import pandas as pd\n",
        "\n",
        "df = pd.read_csv(\"./test_set.csv\", engine='python')\n",
        "# df = pd.read_csv(\"/content/drive/MyDrive/Colab Notebooks/data/test_set.csv\", engine='python')\n",
        "\n",
        "for num_topics, topic_cluster in zip(num_topics_list, topic_cluster_list):\n",
        "    filename = '{num_topics}_bertopic_model'.format(num_topics = num_topics)\n",
        "    model = BERTopic.load(filename)\n",
        "    docs = df.text.to_list()\n",
        "    predicted, probs = model.transform(docs)\n",
        "    predicted_classes = []\n",
        "    for cluster_num in predicted:\n",
        "        if cluster_num == -1:\n",
        "            predicted_classes.append(-1)\n",
        "        else:\n",
        "            predicted_classes.append(map[topic_cluster[cluster_num]])\n",
        "    #  [topic_cluster[cluster_num] for cluster_num in predicted if not cluster == -1 else -1]\n",
        "    accuracy = np.mean(np.array(predicted_classes) == df.label.values)\n",
        "    print('Number of topic:', num_topics, 'Accuracy:',accuracy)"
      ]
    }
  ],
  "metadata": {
    "accelerator": "GPU",
    "colab": {
      "gpuType": "T4",
      "provenance": []
    },
    "kernelspec": {
      "display_name": "Python 3",
      "name": "python3"
    },
    "language_info": {
      "name": "python"
    }
  },
  "nbformat": 4,
  "nbformat_minor": 0
}
